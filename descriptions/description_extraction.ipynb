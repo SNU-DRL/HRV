{
 "cells": [
  {
   "cell_type": "code",
   "execution_count": 1,
   "metadata": {},
   "outputs": [],
   "source": [
    "\"\"\"Transfrom the csv file into a txt file, saving the words in the concept-word mapping set\"\"\"\n",
    "import os\n",
    "import csv\n",
    "\n",
    "directory_path = \"./\"\n",
    "file_name = \"340_final_text_list.csv\"\n",
    "file_path = os.path.join(directory_path, file_name)\n",
    "\n",
    "data = []\n",
    "with open(file_path, \"r\") as f:\n",
    "    render = csv.reader(f)\n",
    "    for row in render:\n",
    "        data.append(row)"
   ]
  },
  {
   "cell_type": "code",
   "execution_count": 2,
   "metadata": {},
   "outputs": [],
   "source": [
    "\"\"\"Filter the data\"\"\"\n",
    "import numpy as np\n",
    "num_list = np.arange(11).astype(str)\n",
    "data = [row for row in data if row != []]\n",
    "data = [row[0] for row in data if any(num in row[0] for num in num_list)]\n",
    "\n",
    "for i, _ in enumerate(data):\n",
    "    for _ in range(2):\n",
    "        for num in num_list:\n",
    "            if num in data[i]:\n",
    "                data[i] = data[i].replace(num, \"\")\n",
    "    data[i] = data[i].replace(\". \", \"\")"
   ]
  },
  {
   "cell_type": "code",
   "execution_count": 3,
   "metadata": {},
   "outputs": [],
   "source": [
    "\"\"\"Save the description file\"\"\"\n",
    "save_path = os.path.join(directory_path, file_name.replace(\"list.csv\", \"descriptions.txt\"))\n",
    "\n",
    "with open(save_path, \"w\") as f:\n",
    "    for item in data:\n",
    "        f.write(\"%s\\n\" % item)"
   ]
  }
 ],
 "metadata": {
  "kernelspec": {
   "display_name": "diffuser",
   "language": "python",
   "name": "python3"
  },
  "language_info": {
   "codemirror_mode": {
    "name": "ipython",
    "version": 3
   },
   "file_extension": ".py",
   "mimetype": "text/x-python",
   "name": "python",
   "nbconvert_exporter": "python",
   "pygments_lexer": "ipython3",
   "version": "3.12.4"
  }
 },
 "nbformat": 4,
 "nbformat_minor": 2
}
