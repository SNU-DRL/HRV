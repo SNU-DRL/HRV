{
 "cells": [
  {
   "cell_type": "code",
   "execution_count": 4,
   "metadata": {},
   "outputs": [],
   "source": [
    "import os\n",
    "sdxl = False # If True, you are using SDXL instead of SD v1.4\n",
    "\n",
    "# Define classes\n",
    "Color = \"red, blue, green, yellow, black, white, purple, gray, pink, brown\".split(\", \")\n",
    "Animals = \"cat, dog, rabbit, frog, bird, squirrel, deer, lion, penguin, horse\".split(\", \")\n",
    "Fruits_and_Vegetables = \"lemons, bananas, apples, oranges, blueberries, carrots, broccoli, tomatoes, potatoes, grapes\".split(\", \")\n",
    "Image_Style = \"cubist, pop art, steampunk, impressionist, black-and-white, watercolor, cartoon, minimalist, sepia, sketch\".split(\", \")\n",
    "Material = \"glass, copper, marble, jade, gold, basalt, silver, clay, paper, leather\".split(\", \")\n",
    "Nature_Scenes = \"forest, desert, beach, waterfall, mountain, canyon, glacier, coral reef, jungle, lake\".split(\", \")\n",
    "Weather_Conditions = \"snowy, rainy, foggy, stormy\".split(\", \")\n",
    "Geometric_Patterns = \"polka-dot, leopard, stripe, greek-key, plaid\".split(\", \")\n",
    "Furniture = \"bed, table, chair, sofa, recliner, bookshelf, dresser, wardrobe, coffee table, TV stand\".split(\", \")\n",
    "Electronics = \"smartphone, laptop, tablet, smart TV, digital camera, drone, desktop computer, microwave, refrigerator, smartwatch\".split(\", \")\n",
    "Objects_A = \"car, bench, bowl, ballon, ball\".split(\", \")\n",
    "Objects_B = \"bowl, cup, table, ball, teapot\".split(\", \")\n",
    "Objects_C = \"T-shirt, pillow, wallpaper, umbrella, blanket\".split(\", \")\n",
    "Animals_A = \"cat, dog, rabbit, frog, bird\".split(\", \")\n",
    "Others = \"castle, mountain, cityscape, farmland, forest\".split(\", \")\n",
    "Animals_ood = \"rabbit, frog, sheep, pig, chicken, dolphin, goat, duck, deer, fox\".split(\", \")\n",
    "Color_ood = \"coral, beige, violet, cyan, magenta, indigo, orange, turquoise, teal, khaki\".split(\", \")\n",
    "Material_ood = \"copper, marble, jade, gold, basalt, silver, clay, steel, tin, bronze\".split(\", \")\n",
    "Fruits_and_Vegetables_ood = \"lemons, blueberries, onions, raspberries, pineapples, cherries, cucumbers, bell peppers, cauliflowers, mangoes\".split(\", \")\n",
    "Nature_Scenes_ood = \"glacier, coral reef, swamp, pond, fjord, rainforest, grassland, marsh, creek, island\".split(\", \")\n",
    "Tableware = \"salad bowl, serving platter, bread basket, fondue pot, spoon, fork, nut dish, coffee pot, tureen, chafing dish\".split(\", \")\n",
    "\n",
    "# Define prompt templates\n",
    "template_1 = \"a ! @\"\n",
    "template_2 = \"a ! on a @ day\"\n",
    "template_3 = \"photo of a !\"\n",
    "template_4 = \"a ! made of @\"\n",
    "template_5 = \"a ! style painting of a @\"\n",
    "template_6 = \"a ! with a @ pattern\"\n",
    "template_7 = \"photo of a !\"\n",
    "template_8 = \"photo of !\"\n",
    "template_9 = \"photo of a !\"\n",
    "template_10 = \"photo of a !\"\n",
    "\n",
    "# Define file name\n",
    "file_name = \"hp_running_code.sh\"\n",
    "\n",
    "# Define shell script save path\n",
    "directory_path = \"./running_codes\"\n",
    "os.makedirs(directory_path, exist_ok=True)\n",
    "\n",
    "# Define prompt making function\n",
    "def make_prompt(template, items1=None, items2=None):\n",
    "    prompts = []\n",
    "    if items2 is None:\n",
    "        for item1 in items1:\n",
    "            prompts.append(template.replace(\"!\", item1))\n",
    "    else:\n",
    "        for item1 in items1:\n",
    "            for item2 in items2:\n",
    "                prompts.append(template.replace(\"!\", item1).replace(\"@\", item2))\n",
    "    return prompts\n",
    "\n",
    "# Define shell script making function\n",
    "def make_script(gpu_nums, exp_num, concept, template, items1, items2):\n",
    "    prompts = make_prompt(template, items1, items2)\n",
    "    file_name = f\"hp_running_code.sh\"\n",
    "\n",
    "    block_cnt = 0\n",
    "    cnt = 0\n",
    "    with open(os.path.join(directory_path, file_name), \"w\") as f:\n",
    "        f.write(\"#!/bin/bash\"+\"\\n\\n\")\n",
    "        if sdxl:\n",
    "            f.write(f'echo \"Running exp {exp_num} ordered_weakening_analysis/head_perturbation_analysis_sdxl.py\"'+'\\n\\n')\n",
    "        else:\n",
    "            f.write(f'echo \"Running exp {exp_num} ordered_weakening_analysis/head_perturbation_analysis.py\"'+'\\n\\n')\n",
    "        f.write(f'echo \"Running code block {block_cnt}\"' + '\\n')\n",
    "        for prompt in prompts:\n",
    "            if cnt != 0 and cnt % len(gpu_nums) == 0:\n",
    "                block_cnt += 1\n",
    "                f.write(\"\\n\"+\"wait\"+\"\\n\\n\")\n",
    "                f.write(f'echo \"Running code block {block_cnt}\"' + '\\n')\n",
    "            if sdxl:\n",
    "                f.write(f'python ordered_weakening_analysis/head_perturbation_analysis_sdxl.py --gpu_num {gpu_nums[cnt % len(gpu_nums)]} --prompt \"{prompt}\" --concept \"{concept}\" --experiment_num {exp_num} --seeds 10 20 30&'+'\\n')\n",
    "            else:\n",
    "                f.write(f'python ordered_weakening_analysis/head_perturbation_analysis.py --gpu_num {gpu_nums[cnt % len(gpu_nums)]} --prompt \"{prompt}\" --concept \"{concept}\" --experiment_num {exp_num} --seeds 10 20 30&'+'\\n')\n",
    "            cnt += 1\n",
    "        \n",
    "        f.write(\"\\n\"+\"wait\"+\"\\n\")\n",
    "        f.write(\"echo 'Successfully ran the code'\"+'\\n')"
   ]
  },
  {
   "cell_type": "code",
   "execution_count": 5,
   "metadata": {},
   "outputs": [],
   "source": [
    "\"\"\"Specify your available gpu numbers\"\"\"\n",
    "gpu_nums = [0, 1, 2, 3] # [0] for single GPU"
   ]
  },
  {
   "cell_type": "markdown",
   "metadata": {},
   "source": [
    "### Run one of the following code blocks to make a running code."
   ]
  },
  {
   "cell_type": "code",
   "execution_count": 2,
   "metadata": {},
   "outputs": [],
   "source": [
    "# Exp 1. Color\n",
    "exp_num = 1\n",
    "concept = \"Color\"\n",
    "template = template_1\n",
    "items1 = Color\n",
    "items2 = Objects_A\n",
    "\n",
    "make_script(gpu_nums, exp_num, concept, template, items1, items2)"
   ]
  },
  {
   "cell_type": "code",
   "execution_count": 2,
   "metadata": {},
   "outputs": [],
   "source": [
    "# Exp 2. Weather Conditions\n",
    "exp_num = 2\n",
    "concept = \"Weather Conditions\"\n",
    "template = template_2\n",
    "items1 = Animals_A\n",
    "items2 = Weather_Conditions\n",
    "\n",
    "make_script(gpu_nums, exp_num, concept, template, items1, items2)"
   ]
  },
  {
   "cell_type": "code",
   "execution_count": 2,
   "metadata": {},
   "outputs": [],
   "source": [
    "# Exp 3. Animals\n",
    "exp_num = 3\n",
    "concept = \"Animals\"\n",
    "template = template_3\n",
    "items1 = Animals\n",
    "items2 = None\n",
    "\n",
    "make_script(gpu_nums, exp_num, concept, template, items1, items2)"
   ]
  },
  {
   "cell_type": "code",
   "execution_count": 4,
   "metadata": {},
   "outputs": [],
   "source": [
    "# Exp 4. Material\n",
    "exp_num = 4\n",
    "concept = \"Material\"\n",
    "template = template_4\n",
    "items1 = Objects_B\n",
    "items2 = Material\n",
    "\n",
    "make_script(gpu_nums, exp_num, concept, template, items1, items2)"
   ]
  },
  {
   "cell_type": "code",
   "execution_count": 7,
   "metadata": {},
   "outputs": [],
   "source": [
    "# Exp 5. Image Style\n",
    "exp_num = 5\n",
    "concept = \"Image Style\"\n",
    "template = template_5\n",
    "items1 = Image_Style\n",
    "items2 = Others\n",
    "\n",
    "make_script(gpu_nums, exp_num, concept, template, items1, items2)"
   ]
  },
  {
   "cell_type": "code",
   "execution_count": 2,
   "metadata": {},
   "outputs": [],
   "source": [
    "# Exp 6. Geometric Patterns\n",
    "exp_num = 6\n",
    "concept = \"Geometric Patterns\"\n",
    "template = template_6\n",
    "items1 = Objects_C\n",
    "items2 = Geometric_Patterns\n",
    "\n",
    "make_script(gpu_nums, exp_num, concept, template, items1, items2)"
   ]
  },
  {
   "cell_type": "code",
   "execution_count": 4,
   "metadata": {},
   "outputs": [],
   "source": [
    "# Exp 7. Nature Scenes\n",
    "exp_num = 7\n",
    "concept = \"Nature Scenes\"\n",
    "template = template_7\n",
    "items1 = Nature_Scenes\n",
    "items2 = None\n",
    "\n",
    "make_script(gpu_nums, exp_num, concept, template, items1, items2)"
   ]
  },
  {
   "cell_type": "code",
   "execution_count": 5,
   "metadata": {},
   "outputs": [],
   "source": [
    "# Exp 8. Fruits and Vegetables\n",
    "exp_num = 8\n",
    "concept = \"Fruits and Vegetables\"\n",
    "template = template_8\n",
    "items1 = Fruits_and_Vegetables\n",
    "items2 = None\n",
    "\n",
    "make_script(gpu_nums, exp_num, concept, template, items1, items2)"
   ]
  },
  {
   "cell_type": "code",
   "execution_count": 2,
   "metadata": {},
   "outputs": [],
   "source": [
    "# Exp 9. Furniture\n",
    "exp_num = 9\n",
    "concept = \"Furniture\"\n",
    "template = template_9\n",
    "items1 = Furniture\n",
    "items2 = None\n",
    "\n",
    "make_script(gpu_nums, exp_num, concept, template, items1, items2)"
   ]
  },
  {
   "cell_type": "code",
   "execution_count": 2,
   "metadata": {},
   "outputs": [],
   "source": [
    "# Exp 91. Animals_ood\n",
    "exp_num = 91\n",
    "concept = \"Animals\"\n",
    "template = template_3\n",
    "items1 = Animals_ood\n",
    "items2 = None\n",
    "\n",
    "make_script(gpu_nums, exp_num, concept, template, items1, items2)"
   ]
  },
  {
   "cell_type": "code",
   "execution_count": 4,
   "metadata": {},
   "outputs": [],
   "source": [
    "# Exp 92. Color_ood\n",
    "exp_num = 92\n",
    "concept = \"Color\"\n",
    "template = template_1\n",
    "items1 = Color_ood\n",
    "items2 = Objects_A\n",
    "\n",
    "make_script(gpu_nums, exp_num, concept, template, items1, items2)"
   ]
  },
  {
   "cell_type": "code",
   "execution_count": 3,
   "metadata": {},
   "outputs": [],
   "source": [
    "# Exp 93. Material_ood\n",
    "exp_num = 93\n",
    "concept = \"Material\"\n",
    "template = template_4\n",
    "items1 = Objects_B\n",
    "items2 = Material_ood\n",
    "\n",
    "make_script(gpu_nums, exp_num, concept, template, items1, items2)"
   ]
  },
  {
   "cell_type": "code",
   "execution_count": 3,
   "metadata": {},
   "outputs": [],
   "source": [
    "# Exp 94. Fruits and Vegetables_ood\n",
    "exp_num = 94\n",
    "concept = \"Fruits and Vegetables\"\n",
    "template = template_8\n",
    "items1 = Fruits_and_Vegetables_ood\n",
    "items2 = None\n",
    "\n",
    "make_script(gpu_nums, exp_num, concept, template, items1, items2)"
   ]
  },
  {
   "cell_type": "code",
   "execution_count": 2,
   "metadata": {},
   "outputs": [],
   "source": [
    "# Exp 95. Nature Scenes_ood\n",
    "exp_num = 95\n",
    "concept = \"Nature Scenes\"\n",
    "template = template_7\n",
    "items1 = Nature_Scenes_ood\n",
    "items2 = None\n",
    "\n",
    "make_script(gpu_nums, exp_num, concept, template, items1, items2)"
   ]
  },
  {
   "cell_type": "code",
   "execution_count": 8,
   "metadata": {},
   "outputs": [],
   "source": [
    "# Exp 991. Tableware; extended concept\n",
    "exp_num = 991\n",
    "concept = \"Tableware\"\n",
    "template = template_10\n",
    "items1 = Tableware\n",
    "items2 = None\n",
    "\n",
    "make_script(gpu_nums, exp_num, concept, template, items1, items2)"
   ]
  }
 ],
 "metadata": {
  "kernelspec": {
   "display_name": "hrv-diffusion",
   "language": "python",
   "name": "python3"
  },
  "language_info": {
   "codemirror_mode": {
    "name": "ipython",
    "version": 3
   },
   "file_extension": ".py",
   "mimetype": "text/x-python",
   "name": "python",
   "nbconvert_exporter": "python",
   "pygments_lexer": "ipython3",
   "version": "3.12.2"
  }
 },
 "nbformat": 4,
 "nbformat_minor": 2
}
